{
  "cells": [
    {
      "cell_type": "markdown",
      "metadata": {
        "id": "view-in-github",
        "colab_type": "text"
      },
      "source": [
        "<a href=\"https://colab.research.google.com/github/DanyalKanzanAhmad/03_function_calling/blob/main/03_function_calling.ipynb\" target=\"_parent\"><img src=\"https://colab.research.google.com/assets/colab-badge.svg\" alt=\"Open In Colab\"/></a>"
      ]
    },
    {
      "cell_type": "markdown",
      "source": [
        "LangChain: A framework for building applications using language models.\n",
        "google-generativeai: A library for interacting with Google’s generative AI models (like PaLM and Gemini).\n",
        "langchain_google_genai: An extension that integrates Google’s generative AI with LangChain.\n",
        "The -q flag installs them quietly, without showing detailed logs. These libraries allow you to combine LangChain’s tools with Google’s AI models for tasks like text generation and summarization."
      ],
      "metadata": {
        "id": "eewell5aFbRb"
      }
    },
    {
      "cell_type": "code",
      "execution_count": 1,
      "metadata": {
        "colab": {
          "base_uri": "https://localhost:8080/"
        },
        "id": "0ykMtKxEkSMo",
        "outputId": "bf8c2076-54d2-42a5-defe-4a987c7f1769"
      },
      "outputs": [
        {
          "output_type": "stream",
          "name": "stdout",
          "text": [
            "\u001b[?25l   \u001b[90m━━━━━━━━━━━━━━━━━━━━━━━━━━━━━━━━━━━━━━━━\u001b[0m \u001b[32m0.0/41.5 kB\u001b[0m \u001b[31m?\u001b[0m eta \u001b[36m-:--:--\u001b[0m\r\u001b[2K   \u001b[90m━━━━━━━━━━━━━━━━━━━━━━━━━━━━━━━━━━━━━━━━\u001b[0m \u001b[32m41.5/41.5 kB\u001b[0m \u001b[31m2.6 MB/s\u001b[0m eta \u001b[36m0:00:00\u001b[0m\n",
            "\u001b[?25h"
          ]
        }
      ],
      "source": [
        "!pip install langchain google-generativeai langchain_google_genai -q\n"
      ]
    },
    {
      "cell_type": "markdown",
      "source": [
        "This imports the userdata module from Google Colab. The userdata module allows you to store and retrieve information (like API keys) across sessions in a Google Colab environmen"
      ],
      "metadata": {
        "id": "uYDxcmZnFfUb"
      }
    },
    {
      "cell_type": "code",
      "execution_count": 66,
      "metadata": {
        "id": "OrJQ2zA0evHO"
      },
      "outputs": [],
      "source": [
        "from google.colab import userdata\n",
        "GEMINI_API_KEY = userdata.get('GOOGLE_API_KEY')\n",
        "NEWS_API_KEY = userdata.get('News_Api')\n",
        "WEATHER_API_KEY = userdata.get('Default')\n",
        "STOCK_API_KEY = userdata.get('Polygon_api')\n",
        "MOVIE_API_KEY = userdata.get('Omdb_api')\n"
      ]
    },
    {
      "cell_type": "markdown",
      "source": [
        "1. calculator Tool:\n",
        "Purpose: Evaluates a mathematical expression (e.g., \"2 + 3 * 4\") and returns the result as a float.\n",
        "Uses Python’s eval() function to evaluate the expression, but restricts access to built-ins for security.\n",
        "Example: calculator(\"2 + 3 * 4\") returns 14.0.\n",
        "2. get_stock_price Tool:\n",
        "Purpose: Fetches the current stock price for a company based on its symbol (e.g., 'AAPL' for Apple).\n",
        "Uses the Polygon API to get the latest stock price.\n",
        "Returns a message with the stock price or an error if it fails.\n",
        "3. get_weather Tool:\n",
        "Purpose: Fetches the current weather of a specified location (e.g., \"New York\").\n",
        "Uses the OpenWeatherMap API to get the weather data.\n",
        "Returns a summary of the weather, including temperature and conditions.\n",
        "4. excel_formula_helper Tool:\n",
        "Purpose: Provides an explanation or usage example of a specific Excel formula (e.g., \"VLOOKUP\").\n",
        "Contains a predefined list of formulas and their descriptions.\n",
        "Returns the explanation for the formula or an error message if not found.\n",
        "5. get_movie_details Tool:\n",
        "Purpose: Fetches details about a movie (e.g., title, year, genre) and displays its poster image.\n",
        "Uses the OMDB API to fetch the movie's details.\n",
        "Displays the movie's title, year, genre, plot, and poster (if available).\n",
        "Key Points:\n",
        "Each tool is decorated with @tool, indicating they are part of a system that uses LangChain for handling tools.\n",
        "The calculator, get_stock_price, and get_weather tools perform operations based on user input, returning the result.\n",
        "The get_movie_details tool displays movie information and the movie poster image.\n",
        "API keys are used for accessing external services like stock data, weather, and movie details.\n",
        "\n"
      ],
      "metadata": {
        "id": "imZJBku8n06N"
      }
    },
    {
      "cell_type": "code",
      "execution_count": 112,
      "metadata": {
        "id": "CxbyCkxG2IM5"
      },
      "outputs": [],
      "source": [
        "from langchain_core.tools import tool\n",
        "import requests\n",
        "from IPython.display import Image, display\n",
        "\n",
        "\n",
        "@tool\n",
        "def calculator(expression: str) -> float:\n",
        "    \"\"\"\n",
        "    Evaluate a mathematical expression and return the result.\n",
        "\n",
        "    Parameters:\n",
        "    expression (str): A string containing the mathematical expression to evaluate.\n",
        "\n",
        "    Returns:\n",
        "    float: The result of the evaluated expression.\n",
        "\n",
        "    Examples:\n",
        "    >>> evaluate_expression(\"2 + 3 * 4\")\n",
        "    14.0\n",
        "    >>> evaluate_expression(\"(10 / 2) + 8\")\n",
        "    13.0\n",
        "\n",
        "    Note:\n",
        "    - This function uses Python's `eval()` to calculate the result.\n",
        "    - Ensure the input is sanitized to avoid malicious code execution.\n",
        "    \"\"\"\n",
        "    try:\n",
        "        # Evaluate the expression safely\n",
        "        result = eval(expression, {\"__builtins__\": {}})\n",
        "        return float(result)\n",
        "    except Exception as e:\n",
        "        print(f\"Error evaluating expression: {e}\")\n",
        "        return None\n",
        "\n",
        "\n",
        "@tool\n",
        "def get_stock_price(symbol: str) -> str:\n",
        "    \"\"\"Fetches the current stock price of a company based on its stock symbol using the Polygon API.\n",
        "\n",
        "    Args:\n",
        "        symbol (str): The stock symbol of the company (e.g., 'AAPL' for Apple, 'GOOGL' for Google).\n",
        "\n",
        "    Returns:\n",
        "        str: A message containing the current stock price of the company.\n",
        "\n",
        "    Raises:\n",
        "        HTTPError: If the HTTP request to the stock API fails (e.g., 404 or 500 status).\n",
        "        RequestException: If there is an issue with the request itself (e.g., connection error).\n",
        "        Exception: For any other unexpected errors during the execution of the function.\n",
        "\n",
        "    \"\"\"\n",
        "    api_key = \"STOCK_API_KEY\"  # Replace this with your actual secret API key from Polygon\n",
        "    url = f\"https://api.polygon.io/v2/aggs/ticker/{symbol}/prev\"  # Polygon endpoint for previous close price\n",
        "\n",
        "    try:\n",
        "        # Send a GET request with the API key\n",
        "        response = requests.get(url, params={'apiKey': api_key})\n",
        "        response.raise_for_status()  # Raise HTTPError for bad responses (4xx, 5xx)\n",
        "\n",
        "        # Assuming the data contains 'close' in the response for the last closing price\n",
        "        data = response.json()\n",
        "        price = data.get('results', [{}])[0].get('c')  # 'c' is the closing price\n",
        "\n",
        "        if price:\n",
        "            return f\"Tool used: get_stock_price\\n get_stock_price tool is used to find The current price of {symbol} is ${price}\"\n",
        "        else:\n",
        "            return f\"Error: Could not retrieve stock data for {symbol}.\\nTool used: get_stock_price\"\n",
        "\n",
        "    except requests.exceptions.HTTPError as http_err:\n",
        "        return f\"HTTP error occurred: {http_err}\\nTool used: get_stock_price\"\n",
        "    except requests.exceptions.RequestException as req_err:\n",
        "        return f\"Request error occurred: {req_err}\\nTool used: get_stock_price\"\n",
        "    except Exception as err:\n",
        "        return f\"An unexpected error occurred: {err}\\nTool used: get_stock_price\"\n",
        "\n",
        "@tool\n",
        "def get_weather(location: str) -> str:\n",
        "    \"\"\"Fetch the current weather for a given location.\n",
        "\n",
        "     Args:\n",
        "      location (str): The name of the city or area.\n",
        "\n",
        "     Returns:\n",
        "             str: A summary of the weather, including temperature and conditions, or an error message if not found.\n",
        "\n",
        "     Example:\n",
        "           >>> get_weather(\"New York\")\n",
        "       \"Weather in New York: Clear skies, 22°C.\"\n",
        "    \"\"\"\n",
        "\n",
        "\n",
        "    api_key = \"WEATHER_API_KEY\"  # Replace with your OpenWeatherMap API key\n",
        "    url = f\"http://api.openweathermap.org/data/2.5/weather?q={location}&appid={api_key}&units=metric\"\n",
        "\n",
        "    try:\n",
        "        response = requests.get(url)\n",
        "        response.raise_for_status()\n",
        "        weather = response.json()\n",
        "        return (f\"Weather in {location}: {weather['weather'][0]['description'].capitalize()}, \"\n",
        "                f\"{weather['main']['temp']}°C.\")\n",
        "    except Exception as e:\n",
        "        return f\"Error fetching weather: {e}\"\n",
        "\n",
        "@tool\n",
        "def excel_formula_helper(formula: str) -> str:\n",
        "    \"\"\"\n",
        "    Explain or provide usage for a specific Excel formula.\n",
        "\n",
        "    Args:\n",
        "        formula (str): The Excel formula to explain (e.g., \"VLOOKUP\", \"SUMIF\").\n",
        "\n",
        "    Returns:\n",
        "        str: An explanation or example of the formula usage, or a message if the formula is not found.\n",
        "\n",
        "    Example:\n",
        "        >>> excel_formula_helper(\"VLOOKUP\")\n",
        "        \"VLOOKUP(lookup_value, table_array, col_index, [range_lookup]) - Searches for a value.\"\n",
        "    \"\"\"\n",
        "    formulas = {\n",
        "        \"VLOOKUP\": \"VLOOKUP(lookup_value, table_array, col_index, [range_lookup]) - Searches for a value in the first column of a range and returns a value in the same row from another column.\",\n",
        "        \"SUMIF\": \"SUMIF(range, criteria, [sum_range]) - Adds values in a range that meet a given condition.\",\n",
        "    }\n",
        "    return formulas.get(formula.upper(), f\"Formula '{formula}' not found in the database.\")\n",
        "\n",
        "@tool\n",
        "def get_movie_details(title: str) -> None:\n",
        "    \"\"\"\n",
        "    Fetch details about a specific movie and display its poster.\n",
        "\n",
        "    Args:\n",
        "        title (str): The title of the movie to search.\n",
        "\n",
        "    Returns:\n",
        "        None: Prints the movie details and displays the poster image inline if available.\n",
        "\n",
        "    Example:\n",
        "        >>> get_movie_details_with_poster(\"Inception\")\n",
        "        Title: Inception\n",
        "        Year: 2010\n",
        "        Genre: Action, Adventure, Sci-Fi\n",
        "        Plot: A thief steals corporate secrets...\n",
        "        (Displays the poster image inline)\n",
        "    \"\"\"\n",
        "\n",
        "    api_key = \"e5811495\"  # Replace with your OMDB API key\n",
        "    url = f\"http://www.omdbapi.com/?t={title}&apikey={api_key}\"\n",
        "\n",
        "    try:\n",
        "        response = requests.get(url)\n",
        "        response.raise_for_status()\n",
        "        movie = response.json()\n",
        "        if movie.get(\"Response\") == \"False\":\n",
        "            print(f\"Movie '{title}' not found.\")\n",
        "            return\n",
        "\n",
        "        # Display movie details\n",
        "        print(f\"Title: {movie['Title']}\")\n",
        "        print(f\"Year: {movie['Year']}\")\n",
        "        print(f\"Genre: {movie['Genre']}\")\n",
        "        print(f\"Plot: {movie['Plot']}\")\n",
        "\n",
        "        # Display the poster image\n",
        "        poster_url = movie.get('Poster', 'N/A')\n",
        "        if poster_url != \"N/A\":\n",
        "            display(Image(url=poster_url))\n",
        "            return \"Movie details and poster displayed.\"\n",
        "        else:\n",
        "            return \"Movie details displayed, but no poster is available.\"\n",
        "\n",
        "    except requests.exceptions.RequestException as req_err:\n",
        "        return f\"Request error: {req_err}\"\n",
        "    except Exception as e:\n",
        "        return f\"An unexpected error occurred: {e}\"\n",
        "\n",
        "\n"
      ]
    },
    {
      "cell_type": "markdown",
      "source": [
        "This line creates a list called tools which contains references to the functions (or tools) you defined earlier:\n",
        "\n",
        "calculator: The tool to evaluate mathematical expressions.\n",
        "get_stock_price: The tool to fetch the current stock price based on the stock symbol.\n",
        "get_weather: The tool to fetch the current weather for a given location.\n",
        "excel_formula_helper: The tool to provide explanations or usage for specific Excel formulas.\n",
        "get_movie_details: The tool to fetch details of a movie and display its poster.\n",
        "Purpose:\n",
        "This list is likely used to store the available tools that can be accessed or called later in the code. By organizing them in a list, you can easily iterate over the tools, or choose a specific one based on user input or other conditions.\n",
        "\n",
        "For example, you could loop through tools and call each function in turn, or randomly pick a tool to use, or even expose this list to the user for interactive access.\n",
        "\n",
        "If you're planning to work with these tools in a structured way, you can call them based on the context or allow dynamic usage via a command-line interface or API.\n"
      ],
      "metadata": {
        "id": "n6VO5xVbGH3Y"
      }
    },
    {
      "cell_type": "code",
      "execution_count": 113,
      "metadata": {
        "id": "v1O3tq3d2Ubb"
      },
      "outputs": [],
      "source": [
        "tools = [calculator,get_stock_price,get_weather,excel_formula_helper,get_movie_details]"
      ]
    },
    {
      "cell_type": "markdown",
      "source": [
        "This initializes a ChatGoogleGenerativeAI object, which is responsible for interacting with the Google Gemini model.\n",
        "The parameters used are:\n",
        "model=\"gemini-2.0-flash-exp\": Specifies which version of the Gemini model to use (in this case, \"gemini-2.0-flash-exp\"). You can replace it with other available models if needed.\n",
        "api_key=GEMINI_API_KEY: The API key used to authenticate requests to the Google Gemini API. The key is fetched from the GEMINI_API_KEY variable, which should contain your Google API key."
      ],
      "metadata": {
        "id": "O1wmPMT-GWeV"
      }
    },
    {
      "cell_type": "code",
      "execution_count": 114,
      "metadata": {
        "id": "8uVG4PeT2V6s"
      },
      "outputs": [],
      "source": [
        "from langchain_google_genai import ChatGoogleGenerativeAI\n",
        "\n",
        "llm = ChatGoogleGenerativeAI(model = \"gemini-2.0-flash-exp\" , api_key=GEMINI_API_KEY)"
      ]
    },
    {
      "cell_type": "code",
      "execution_count": 118,
      "metadata": {
        "id": "eV-1F41Y2e2i"
      },
      "outputs": [],
      "source": [
        "from langchain.agents import initialize_agent, AgentType"
      ]
    },
    {
      "cell_type": "code",
      "execution_count": 116,
      "metadata": {
        "id": "WHhGu6b02hR3"
      },
      "outputs": [],
      "source": [
        "agent = initialize_agent(tools, llm , agent=AgentType.STRUCTURED_CHAT_ZERO_SHOT_REACT_DESCRIPTION )"
      ]
    },
    {
      "cell_type": "code",
      "execution_count": 56,
      "metadata": {
        "colab": {
          "base_uri": "https://localhost:8080/",
          "height": 35
        },
        "id": "AFuf7QnY2lIT",
        "outputId": "7f93481e-2082-4470-a366-a2e2fc37a347"
      },
      "outputs": [
        {
          "output_type": "execute_result",
          "data": {
            "text/plain": [
              "'2 multiplied by 3 is 6.'"
            ],
            "application/vnd.google.colaboratory.intrinsic+json": {
              "type": "string"
            }
          },
          "metadata": {},
          "execution_count": 56
        }
      ],
      "source": [
        "respone =  agent.invoke({\"input\":\"what is 2 multiply by 3\"})\n",
        "respone[\"output\"]"
      ]
    },
    {
      "cell_type": "code",
      "execution_count": 39,
      "metadata": {
        "colab": {
          "base_uri": "https://localhost:8080/",
          "height": 35
        },
        "id": "vB9ngcVH2pjP",
        "outputId": "3d813527-70d2-46da-df42-851e46a25890"
      },
      "outputs": [
        {
          "output_type": "execute_result",
          "data": {
            "text/plain": [
              "'The current stock price of Honda (HMC) is $28.65.'"
            ],
            "application/vnd.google.colaboratory.intrinsic+json": {
              "type": "string"
            }
          },
          "metadata": {},
          "execution_count": 39
        }
      ],
      "source": [
        "respone =  agent.invoke({\"input\":\"what is stock price of honda\"})\n",
        "respone[\"output\"]"
      ]
    },
    {
      "cell_type": "code",
      "source": [
        "respone =  agent.invoke({\"input\":\"what is the Weather of Sheikhupura\"})\n",
        "respone[\"output\"]"
      ],
      "metadata": {
        "colab": {
          "base_uri": "https://localhost:8080/",
          "height": 35
        },
        "id": "dXu2PEXArCZ6",
        "outputId": "0c0f42cf-9f8a-4d9c-e929-dd41bdcfaa15"
      },
      "execution_count": 40,
      "outputs": [
        {
          "output_type": "execute_result",
          "data": {
            "text/plain": [
              "'The weather in Sheikhupura is clear sky with a temperature of 21.32°C.'"
            ],
            "application/vnd.google.colaboratory.intrinsic+json": {
              "type": "string"
            }
          },
          "metadata": {},
          "execution_count": 40
        }
      ]
    },
    {
      "cell_type": "code",
      "source": [
        "respone =  agent.invoke({\"input\":\"what is the sum formula in excel\"})\n",
        "respone[\"output\"]"
      ],
      "metadata": {
        "colab": {
          "base_uri": "https://localhost:8080/",
          "height": 70
        },
        "outputId": "dcd9995c-279e-40a2-f9d5-fc2b832f6a55",
        "id": "DiQj174Kvu1F"
      },
      "execution_count": 43,
      "outputs": [
        {
          "output_type": "execute_result",
          "data": {
            "text/plain": [
              "'The SUM formula in Excel is used to add numbers together. The basic syntax is =SUM(number1, [number2], ...). You can also use ranges of cells, for example, =SUM(A1:A10) would add all the values in cells A1 through A10.'"
            ],
            "application/vnd.google.colaboratory.intrinsic+json": {
              "type": "string"
            }
          },
          "metadata": {},
          "execution_count": 43
        }
      ]
    },
    {
      "cell_type": "code",
      "source": [
        "respone =  agent.invoke({\"input\":\"Bhool Bhulaiyaa\"})\n",
        "respone[\"output\"]"
      ],
      "metadata": {
        "colab": {
          "base_uri": "https://localhost:8080/",
          "height": 572
        },
        "id": "rVbBO618xgZh",
        "outputId": "732b2af2-8973-4260-f581-61cb6549e314"
      },
      "execution_count": 117,
      "outputs": [
        {
          "output_type": "stream",
          "name": "stdout",
          "text": [
            "Title: Bhool Bhulaiyaa\n",
            "Year: 2007\n",
            "Genre: Comedy, Horror, Mystery\n",
            "Plot: An NRI and his wife decide to stay in his ancestral home, paying no heed to the warnings about ghosts. Soon, inexplicable occurrences cause him to call a psychiatrist to help solve the mystery.\n"
          ]
        },
        {
          "output_type": "display_data",
          "data": {
            "text/html": [
              "<img src=\"https://m.media-amazon.com/images/M/MV5BNGI1Y2UwNmQtMmE4MS00ZmVhLTg3YzgtYTg3NGUzOTI5NjdjXkEyXkFqcGc@._V1_SX300.jpg\"/>"
            ],
            "text/plain": [
              "<IPython.core.display.Image object>"
            ]
          },
          "metadata": {}
        },
        {
          "output_type": "execute_result",
          "data": {
            "text/plain": [
              "'I have already displayed the details and poster for the movie Bhool Bhulaiyaa.'"
            ],
            "application/vnd.google.colaboratory.intrinsic+json": {
              "type": "string"
            }
          },
          "metadata": {},
          "execution_count": 117
        }
      ]
    }
  ],
  "metadata": {
    "colab": {
      "provenance": [],
      "include_colab_link": true
    },
    "kernelspec": {
      "display_name": "Python 3",
      "name": "python3"
    },
    "language_info": {
      "name": "python"
    }
  },
  "nbformat": 4,
  "nbformat_minor": 0
}